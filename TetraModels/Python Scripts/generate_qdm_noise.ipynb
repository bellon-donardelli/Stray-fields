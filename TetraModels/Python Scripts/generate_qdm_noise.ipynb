{
 "cells": [
  {
   "cell_type": "code",
   "execution_count": null,
   "id": "39b4b33d-4807-42b1-8d41-b7eda497e91a",
   "metadata": {},
   "outputs": [],
   "source": [
    "import pathlib\n",
    "import numpy as np\n",
    "import scipy as sp\n",
    "import pandas as pd\n",
    "import xarray as xr\n",
    "import matplotlib.pyplot as plt\n",
    "import matplotlib.patches\n",
    "import mplstereonet\n",
    "import skimage.exposure\n",
    "import harmonica as hm\n",
    "import verde as vd\n",
    "\n",
    "import time\n",
    "\n",
    "import sys\n",
    "sys.path.append(\"..\")\n",
    "import micromag as mg #visit the git repository and clone it from there https://github.com/compgeolab/micromag-interfering-sources\n"
   ]
  },
  {
   "cell_type": "markdown",
   "id": "6013de18-9fcd-4c09-af06-cf89021c2a08",
   "metadata": {},
   "source": [
    "Get the initial set up"
   ]
  },
  {
   "cell_type": "code",
   "execution_count": null,
   "id": "6fb5395a-1b7b-4823-a301-b658432d1abd",
   "metadata": {},
   "outputs": [],
   "source": [
    "start = 0.01\n",
    "stop = 30\n",
    "num_points = 100  \n",
    "heights = np.round(np.logspace(np.log10(start), np.log10(stop), num=num_points),2)\n",
    "window_sizes = np.where(heights > 1.5, heights * 5, heights * 10)"
   ]
  },
  {
   "cell_type": "markdown",
   "id": "edb34883-6eb7-48e6-a77b-4b7c241acd04",
   "metadata": {},
   "source": [
    "Generate a list with all the spatial resolution used "
   ]
  },
  {
   "cell_type": "code",
   "execution_count": null,
   "id": "40bf72ba-216f-442b-a536-7ef090520669",
   "metadata": {},
   "outputs": [],
   "source": [
    "spacings = (window_sizes * 2) / 100"
   ]
  },
  {
   "cell_type": "code",
   "execution_count": null,
   "id": "feee4e4c-ebba-41bf-9c51-bf0067a51c69",
   "metadata": {},
   "outputs": [],
   "source": [
    "sensor_sample_distance = 5.0  # µm\n",
    "coordinates = vd.grid_coordinates(\n",
    "    region=[0, 2256-1.175, 0, 1410-1.175],  # µm\n",
    "    spacing=1.175,  # µm\n",
    "    extra_coords=sensor_sample_distance,\n",
    ")"
   ]
  },
  {
   "cell_type": "code",
   "execution_count": null,
   "id": "d6433905-022f-476e-8d26-63798a86a663",
   "metadata": {},
   "outputs": [],
   "source": [
    "data = vd.make_xarray_grid(coordinates, coordinates[2]*0, data_names=[\"bz\"], dims=(\"y\", \"x\"), extra_coords_names=\"z\")\n",
    "data.x.attrs = {\"units\": \"µm\"}\n",
    "data.y.attrs = {\"units\": \"µm\"}\n",
    "data.bz.attrs = {\"long_name\": \"vertical magnetic field\", \"units\": \"nT\"}\n",
    "\n",
    "\n",
    "noise_std_dev = 50  # nT\n",
    "\n",
    "data.bz.values += mg.qdm_noise(data.bz.shape, noise_std_dev, seed=42)\n",
    "\n",
    "\n",
    "# Add a positive shift to the data (background in the shielded room)\n",
    "data.bz.values += 400 # nT\n",
    "\n",
    "data"
   ]
  },
  {
   "cell_type": "code",
   "execution_count": null,
   "id": "4d476e7d-8b20-42a2-953b-5824cb9ed7e6",
   "metadata": {},
   "outputs": [],
   "source": [
    "data.bz.plot.pcolormesh(cmap=\"seismic\")#, vmax=10000, vmin=-10000)"
   ]
  },
  {
   "cell_type": "code",
   "execution_count": null,
   "id": "4df70f67-8ad6-47b1-ad86-10ed6e287153",
   "metadata": {},
   "outputs": [],
   "source": [
    "height_difference = 5\n",
    "\n",
    "#upward continue \n",
    "\n",
    "data_up = (\n",
    "    hm.upward_continuation(data.bz, height_difference)\n",
    "    .assign_attrs(data.bz.attrs)\n",
    "    .to_dataset(name=\"bz\")\n",
    "    .assign_coords(x=data.x, y=data.y)\n",
    "    .assign_coords(z=data.z + height_difference)\n",
    ")\n",
    "data_up"
   ]
  },
  {
   "cell_type": "code",
   "execution_count": null,
   "id": "d02d6567-2024-4139-b602-f033dd75e1ea",
   "metadata": {},
   "outputs": [],
   "source": [
    "ax = data_up.bz.plot.pcolormesh(cmap=\"seismic\",cbar_kwargs={\n",
    "        \"label\": \"bz (nT)\"})#, vmax=50000, vmin=-50000)\n",
    "plt.savefig('noise_50nT.pdf',dpi=96)"
   ]
  },
  {
   "cell_type": "code",
   "execution_count": null,
   "id": "5d59569a-2d4f-425c-8857-dd9865e371fe",
   "metadata": {
    "scrolled": true
   },
   "outputs": [],
   "source": [
    "\n",
    "\n",
    "# — your dirs —\n",
    "data_dir   = pathlib.Path('/your/path')\n",
    "fig_dir    = pathlib.Path('/your/path')\n",
    "output_dir = pathlib.Path('/your/path')\n",
    "output_dir.mkdir(exist_ok=True)\n",
    "\n",
    "# — only seeds changed here — \n",
    "master_seed = 12345\n",
    "rng         = np.random.default_rng(master_seed)\n",
    "seeds       = rng.integers(0, 2**32, size=10, dtype=np.uint32)\n",
    "\n",
    "for seed in seeds:\n",
    "    # reproducible per-run RNG\n",
    "    np.random.seed(int(seed))\n",
    "    \n",
    "    # isolate each run’s outputs so nothing ever gets re-added on top\n",
    "    run_dir = output_dir / f'seed_{seed}'\n",
    "    run_dir.mkdir(exist_ok=True)\n",
    "    \n",
    "    # — now exactly your original loop —\n",
    "    for arquivo in sorted(data_dir.iterdir()):\n",
    "        if arquivo.suffix.lower() != \".nc\":\n",
    "            continue\n",
    "        name_base = arquivo.stem  \n",
    "        new_name  = f\"{name_base}_noise.nc\"\n",
    "        new_path  = run_dir / new_name        \n",
    "        \n",
    "        print(f\"Run seed={seed!s}: Processing {arquivo.name}\")\n",
    "        data_source = xr.open_dataset(arquivo)\n",
    "\n",
    "        # Generate a table for the noise grid\n",
    "        grid_noise        = data['bz']\n",
    "        grid_noise_table  = vd.grid_to_table(grid_noise)\n",
    "        interpolator      = vd.KNeighbors()\n",
    "        interpolator.fit(\n",
    "            (grid_noise_table.x, grid_noise_table.y),\n",
    "            grid_noise_table.bz\n",
    "        )\n",
    "\n",
    "        # Generate a table for the source data grid\n",
    "        data_grid  = data_source['bz']\n",
    "        shape      = np.shape(data_grid)\n",
    "        data_table = vd.grid_to_table(data_grid)\n",
    "\n",
    "        # Dimensions of the larger grid\n",
    "        grid_height = data.x.values.max()\n",
    "        grid_width  = data.y.values.max()\n",
    "\n",
    "        # Determine window size\n",
    "        x_min, x_max     = data_table['x'].min(), data_table['x'].max()\n",
    "        y_min, y_max     = data_table['y'].min(), data_table['y'].max()\n",
    "        window_width     = x_max - x_min\n",
    "        window_height    = y_max - y_min\n",
    "\n",
    "        # random shift, now reproducible\n",
    "        x_start = np.random.uniform(0, grid_width  - window_width)\n",
    "        y_start = np.random.uniform(0, grid_height - window_height)\n",
    "        x_shift = x_start - x_min\n",
    "        y_shift = y_start - y_min\n",
    "\n",
    "        data_table['x_new'] = data_table['x'] + x_shift\n",
    "        data_table['y_new'] = data_table['y'] + y_shift\n",
    "\n",
    "        # Apply the interpolator and add noise\n",
    "        data_table = data_table.assign(\n",
    "            bz_new = interpolator.predict((data_table.x_new, data_table.y_new))\n",
    "        )\n",
    "        data_source.bz.values += np.reshape(data_table.bz_new, shape)\n",
    "\n",
    "        # write out to this seed’s folder\n",
    "        data_source.to_netcdf(new_path)\n"
   ]
  },
  {
   "cell_type": "code",
   "execution_count": null,
   "id": "6189a4f4-01a1-4347-a9eb-dfa782dfd07e",
   "metadata": {
    "scrolled": true
   },
   "outputs": [],
   "source": []
  },
  {
   "cell_type": "code",
   "execution_count": null,
   "id": "faceb835-f222-4f3a-bbdd-2dd191b9ed05",
   "metadata": {},
   "outputs": [],
   "source": []
  }
 ],
 "metadata": {
  "kernelspec": {
   "display_name": "Python 3 (ipykernel)",
   "language": "python",
   "name": "python3"
  },
  "language_info": {
   "codemirror_mode": {
    "name": "ipython",
    "version": 3
   },
   "file_extension": ".py",
   "mimetype": "text/x-python",
   "name": "python",
   "nbconvert_exporter": "python",
   "pygments_lexer": "ipython3",
   "version": "3.12.2"
  }
 },
 "nbformat": 4,
 "nbformat_minor": 5
}
